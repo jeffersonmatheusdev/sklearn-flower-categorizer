{
  "nbformat": 4,
  "nbformat_minor": 0,
  "metadata": {
    "colab": {
      "name": "Train.ipynb",
      "provenance": []
    },
    "kernelspec": {
      "name": "python3",
      "display_name": "Python 3"
    },
    "language_info": {
      "name": "python"
    }
  },
  "cells": [
    {
      "cell_type": "code",
      "metadata": {
        "id": "k5M8MvOQeEE4"
      },
      "source": [
        "# Importing all dependencies.\n",
        "# Importando todas as dependencias.\n",
        "\n",
        "import glob\n",
        "import pickle\n",
        "import numpy as np\n",
        "from skimage import io\n",
        "from sklearn.svm import LinearSVC\n",
        "from skimage.transform import resize\n",
        "from sklearn.metrics import classification_report, confusion_matrix\n",
        "from sklearn.model_selection import train_test_split"
      ],
      "execution_count": 67,
      "outputs": []
    },
    {
      "cell_type": "code",
      "metadata": {
        "id": "6HSOPe9sflEz"
      },
      "source": [
        "# Set random seed to show similar result.\n",
        "# Fixando a \"semente aleatória\", etapa importante o resultado ser similar.\n",
        "\n",
        "random_seed = 1000"
      ],
      "execution_count": 65,
      "outputs": []
    },
    {
      "cell_type": "code",
      "metadata": {
        "id": "d0QYWHeFefgE"
      },
      "source": [
        "# Create a function to receive the location of image, resize image and flatten the np array.\n",
        "# Criação de uma função para receber o caminho da imagem, redimencionar a imagem e achatar o array do np.\n",
        "\n",
        "def transform_image(location):\n",
        "    return np.array(resize(io.imread(location), (15,15))).flatten()"
      ],
      "execution_count": 56,
      "outputs": []
    },
    {
      "cell_type": "code",
      "metadata": {
        "id": "ynEvS9w7eg39"
      },
      "source": [
        "# Create a function to locate all images into to the folder and set label for each one.\n",
        "# Criação de uma função para listar todas as imagens de um diretório, o label será atribuido para todas as imagens.\n",
        "\n",
        "def return_X_Y_by_location(location, label):\n",
        "    list_from_location = glob.glob('/content/flowers/%s/*' % location)\n",
        "    X, Y = [transform_image(image) for image in list_from_location], [label] * (len(list_from_location))\n",
        "    return X, Y"
      ],
      "execution_count": 57,
      "outputs": []
    },
    {
      "cell_type": "code",
      "metadata": {
        "id": "hsze6LoMeiOz"
      },
      "source": [
        "# For each category of flower a variable was created to store the X and Y.\n",
        "# Para cada categoria de flores criada é armazenado o X e Y referente a sua categoria.\n",
        "\n",
        "X_type_1, Y_type_1 = return_X_Y_by_location('type_1', 'Rose')\n",
        "X_type_2, Y_type_2 = return_X_Y_by_location('type_2', 'Orchid')"
      ],
      "execution_count": 58,
      "outputs": []
    },
    {
      "cell_type": "code",
      "metadata": {
        "id": "cFC_DWF5epTf"
      },
      "source": [
        "# Separating the training and testing set, the test set being equivalent to 30% of the total set.\n",
        "# Separando o conjunto de treino e de teste, sendo o conjunto de teste o equivalente a 30% do conjunto total.\n",
        "\n",
        "X_train, X_test, Y_train, Y_test = train_test_split(\n",
        "    [*X_type_1, *X_type_2], [*Y_type_1, *Y_type_2],\n",
        "    test_size = 0.3,\n",
        "    random_state = random_seed\n",
        "    )"
      ],
      "execution_count": 66,
      "outputs": []
    },
    {
      "cell_type": "code",
      "metadata": {
        "id": "TZQM5bjseqsr"
      },
      "source": [
        "# Creating a linear model simple.\n",
        "# Criando um modelo linear simples.\n",
        "\n",
        "model = LinearSVC(\n",
        "    random_state = random_seed\n",
        ")"
      ],
      "execution_count": 60,
      "outputs": []
    },
    {
      "cell_type": "code",
      "metadata": {
        "colab": {
          "base_uri": "https://localhost:8080/"
        },
        "id": "Gl8kqdaSe4oa",
        "outputId": "9dfd9abd-82e5-4c8c-e809-59ed7ce077db"
      },
      "source": [
        "# Training the model with training data.\n",
        "# Treinando o modelo com os dados de treino.\n",
        "\n",
        "model.fit(X_train, Y_train)"
      ],
      "execution_count": 61,
      "outputs": [
        {
          "output_type": "execute_result",
          "data": {
            "text/plain": [
              "LinearSVC(C=1.0, class_weight=None, dual=True, fit_intercept=True,\n",
              "          intercept_scaling=1, loss='squared_hinge', max_iter=1000,\n",
              "          multi_class='ovr', penalty='l2', random_state=1000, tol=0.0001,\n",
              "          verbose=0)"
            ]
          },
          "metadata": {},
          "execution_count": 61
        }
      ]
    },
    {
      "cell_type": "code",
      "metadata": {
        "id": "VO92OhCae57z"
      },
      "source": [
        "# Storing the model forecast.\n",
        "# Armazenando a previsão do modelo.\n",
        "\n",
        "result = model.predict(X_test)"
      ],
      "execution_count": 62,
      "outputs": []
    },
    {
      "cell_type": "code",
      "metadata": {
        "colab": {
          "base_uri": "https://localhost:8080/"
        },
        "id": "JwDG7is4fCRL",
        "outputId": "461503bc-7b51-4a8c-b632-ed7924521e90"
      },
      "source": [
        "# Viewing model metrics.\n",
        "# Visualizando as métricas do modelo.\n",
        "\n",
        "print(classification_report(Y_test, result))"
      ],
      "execution_count": 63,
      "outputs": [
        {
          "output_type": "stream",
          "name": "stdout",
          "text": [
            "              precision    recall  f1-score   support\n",
            "\n",
            "      Orchid       1.00      1.00      1.00         4\n",
            "        Rose       1.00      1.00      1.00         5\n",
            "\n",
            "    accuracy                           1.00         9\n",
            "   macro avg       1.00      1.00      1.00         9\n",
            "weighted avg       1.00      1.00      1.00         9\n",
            "\n"
          ]
        }
      ]
    },
    {
      "cell_type": "code",
      "metadata": {
        "colab": {
          "base_uri": "https://localhost:8080/"
        },
        "id": "mlpeGCB6fEJj",
        "outputId": "bef0934b-00db-42e5-bd12-200e7225fc0d"
      },
      "source": [
        "# Viewing model confusion matrix.\n",
        "# Visualizando a matrix de confusão do modelo.\n",
        "\n",
        "print(confusion_matrix(Y_test, result))"
      ],
      "execution_count": 64,
      "outputs": [
        {
          "output_type": "stream",
          "name": "stdout",
          "text": [
            "[[4 0]\n",
            " [0 5]]\n"
          ]
        }
      ]
    },
    {
      "cell_type": "code",
      "metadata": {
        "id": "Oac_1t4kpV_D"
      },
      "source": [
        "# Saving model to file.\n",
        "# Salvando o modelo para um arquivo.\n",
        "\n",
        "pickle.dump(model, open(\"finalized_model.sav\", \"wb\"))"
      ],
      "execution_count": 69,
      "outputs": []
    }
  ]
}