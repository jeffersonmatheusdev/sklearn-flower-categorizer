{
  "nbformat": 4,
  "nbformat_minor": 0,
  "metadata": {
    "colab": {
      "name": "Test.ipynb",
      "provenance": [],
      "collapsed_sections": []
    },
    "kernelspec": {
      "name": "python3",
      "display_name": "Python 3"
    },
    "language_info": {
      "name": "python"
    }
  },
  "cells": [
    {
      "cell_type": "code",
      "metadata": {
        "id": "yFl1fWeDqmTx"
      },
      "source": [
        "# Importing all dependencies.\n",
        "# Importando todas as dependencias.\n",
        "\n",
        "import pickle\n",
        "import numpy as np\n",
        "from skimage import io\n",
        "from skimage.transform import resize"
      ],
      "execution_count": 1,
      "outputs": []
    },
    {
      "cell_type": "code",
      "metadata": {
        "id": "4xuz4pMJq7QQ"
      },
      "source": [
        "# Create a function to receive the location of image, resize image and flatten the np array.\n",
        "# Criação de uma função para receber o caminho da imagem, redimencionar a imagem e achatar o array do np.\n",
        "\n",
        "def transform_image(location):\n",
        "    return np.array(resize(io.imread(location), (15,15))).flatten()"
      ],
      "execution_count": 2,
      "outputs": []
    },
    {
      "cell_type": "code",
      "metadata": {
        "id": "V4XurBhWq8A_"
      },
      "source": [
        "# Loading model from file.\n",
        "# Carregando o modelo a partir do arquivo.\n",
        "\n",
        "model = pickle.load(open(\"/content/finalized_model.sav\", \"rb\"))"
      ],
      "execution_count": 3,
      "outputs": []
    },
    {
      "cell_type": "code",
      "metadata": {
        "id": "-m6RjtgArfmp"
      },
      "source": [
        "# Uploading a new image for each type of flower.\n",
        "# Carregando uma nova imagem para cada tipo de flor.\n",
        "\n",
        "full_path_image_type_1 = \"/content/flowers/type_1/test.jpg\"\n",
        "full_path_image_type_2 = \"/content/flowers/type_2/test.jpg\""
      ],
      "execution_count": 4,
      "outputs": []
    },
    {
      "cell_type": "code",
      "metadata": {
        "id": "vyyNByUWs-pj"
      },
      "source": [
        "# Loading the image assigned in the variable \"full_path_image_type_1\" and then passing it to the predict model.\n",
        "# Carregando a imagem atribuida na variável \"full_path_image_type_1\" e depois passando para o modelo prever.\n",
        "\n",
        "predict_1 = model.predict(\n",
        "    [ transform_image(full_path_image_type_1) ]\n",
        ")[0]\n",
        "\n",
        "print('The flower type 1 is: %s' % predict_1)"
      ],
      "execution_count": null,
      "outputs": []
    },
    {
      "cell_type": "code",
      "metadata": {
        "id": "fxVus05cwO3P"
      },
      "source": [
        "# Loading the image assigned in the variable \"full_path_image_type_2\" and then passing it to the predict model.\n",
        "# Carregando a imagem atribuida na variável \"full_path_image_type_2\" e depois passando para o modelo prever.\n",
        "\n",
        "predict_2 = model.predict(\n",
        "    [ transform_image(full_path_image_type_2) ]\n",
        ")[0]\n",
        "\n",
        "print('The flower type 2 is: %s' % predict_2)"
      ],
      "execution_count": null,
      "outputs": []
    }
  ]
}